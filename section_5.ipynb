{
 "cells": [
  {
   "attachments": {},
   "cell_type": "markdown",
   "metadata": {},
   "source": [
    "# Recreation of Section 5 of Cleveland's Paper"
   ]
  },
  {
   "cell_type": "code",
   "execution_count": null,
   "metadata": {},
   "outputs": [],
   "source": [
    "import numpy as np\n",
    "import pandas as pd\n",
    "import matplotlib.pyplot as plt\n",
    "from scipy import stats\n",
    "import Loess"
   ]
  },
  {
   "cell_type": "code",
   "execution_count": null,
   "metadata": {},
   "outputs": [],
   "source": [
    "df = pd.read_csv(\"dataset.csv\")\n",
    "df.head()"
   ]
  },
  {
   "cell_type": "code",
   "execution_count": null,
   "metadata": {},
   "outputs": [],
   "source": [
    "# The first two columns are unnecessary (index)\n",
    "df.drop(df.columns[[0, 1]], axis = 1, inplace = True)\n",
    "df.head()"
   ]
  },
  {
   "attachments": {},
   "cell_type": "markdown",
   "metadata": {},
   "source": [
    "## Figure 3"
   ]
  },
  {
   "cell_type": "code",
   "execution_count": null,
   "metadata": {},
   "outputs": [],
   "source": [
    "labels = [\"radiation\", \"ozone\", \"temperature\", \"wind\"]\n",
    "fig, axs = plt.subplots(4, 4, constrained_layout=True)\n",
    "fig.set_size_inches(7, 7)\n",
    "for i in range(4):\n",
    "    for j in range(4):\n",
    "        axs[i, j].axes.xaxis.set_visible(False)\n",
    "        axs[i, j].axes.yaxis.set_visible(False)\n",
    "        if i == j:\n",
    "            axs[i, j].plot()\n",
    "            axs[i, j].text(.5, .5, labels[i].capitalize(),  horizontalalignment='center', verticalalignment='center', transform=axs[i, j].transAxes, fontsize=13)\n",
    "        else:\n",
    "            if i == 0 or i == 3:\n",
    "                axs[i, j].axes.xaxis.set_visible(True)\n",
    "            if i == 0:\n",
    "                axs[i, j].xaxis.tick_top()\n",
    "            if j == 0 or j == 3:\n",
    "                axs[i, j].axes.yaxis.set_visible(True)\n",
    "            if j == 3:\n",
    "                axs[i, j].yaxis.tick_right()\n",
    "            axs[i, j].scatter(df[labels[j]], df[labels[i]], s=15, color=\"black\")"
   ]
  },
  {
   "attachments": {},
   "cell_type": "markdown",
   "metadata": {},
   "source": [
    "## Figure 4"
   ]
  },
  {
   "cell_type": "code",
   "execution_count": null,
   "metadata": {},
   "outputs": [],
   "source": [
    "# Perform a linear estimation with f = 0.4\n",
    "X = df[[\"radiation\", \"temperature\", \"wind\"]]\n",
    "y = df[[\"ozone\"]]\n",
    "loess = Loess.Loess(X, y, 1)\n",
    "estimations = []\n",
    "for i in range(len(X)):\n",
    "    x = np.array(X.iloc[[i]])[0]\n",
    "    estimations.append(loess.estimate(x, 0.4))\n",
    "df[\"linear_0.4_estimation\"] = estimations\n",
    "df[\"linear_0.4_residual\"] = df[\"ozone\"] - df[\"linear_0.4_estimation\"]"
   ]
  },
  {
   "cell_type": "code",
   "execution_count": null,
   "metadata": {},
   "outputs": [],
   "source": [
    "fig, ax = plt.subplots()\n",
    "ax.set_box_aspect(1)\n",
    "res = stats.probplot(df[\"linear_0.4_residual\"], plot=plt, fit=False)\n",
    "ax.get_lines()[0].set_color(\"black\")\n",
    "ax.get_lines()[0].set_markerfacecolor(\"white\")\n",
    "ax.get_lines()[0].set_markersize(4.0)\n",
    "plt.ylim(-50, 75)\n",
    "plt.title(\"\")\n",
    "plt.xlabel(\"Normal Quantiles\")\n",
    "plt.ylabel(\"Residuals\")\n",
    "plt.show()"
   ]
  },
  {
   "cell_type": "code",
   "execution_count": null,
   "metadata": {},
   "outputs": [],
   "source": [
    "df.sort_values(by=\"linear_0.4_estimation\", inplace=True)\n",
    "X = df[[\"linear_0.4_estimation\"]]\n",
    "y = abs(df[[\"linear_0.4_residual\"]])\n",
    "loess.reset_xx(X)\n",
    "loess.reset_yy(y)\n",
    "estimations = []\n",
    "for i in range(len(X)):\n",
    "    x = np.array(X.iloc[[i]])[0]\n",
    "    estimations.append(loess.estimate(x, 2/3))"
   ]
  },
  {
   "cell_type": "code",
   "execution_count": null,
   "metadata": {},
   "outputs": [],
   "source": [
    "fig, ax = plt.subplots()\n",
    "ax.set_box_aspect(1)\n",
    "plt.scatter(df[\"linear_0.4_estimation\"], abs(df[\"linear_0.4_residual\"]), facecolors='none', edgecolors='black', s=20)\n",
    "plt.plot(X, estimations, color=\"black\")\n",
    "plt.ylim(0, 75)\n",
    "plt.xlabel(\"Fitted Values\")\n",
    "plt.ylabel(\"Absolute Residuals\")"
   ]
  },
  {
   "cell_type": "code",
   "execution_count": null,
   "metadata": {},
   "outputs": [],
   "source": [
    "df.sort_values(by=\"radiation\", inplace=True)\n",
    "X = df[[\"radiation\"]]\n",
    "y = df[[\"linear_0.4_residual\"]]\n",
    "loess.reset_xx(X)\n",
    "loess.reset_yy(y)\n",
    "estimations = []\n",
    "for i in range(len(X)):\n",
    "    x = np.array(X.iloc[[i]])[0]\n",
    "    estimations.append(loess.estimate(x, 2/3))"
   ]
  },
  {
   "cell_type": "code",
   "execution_count": null,
   "metadata": {},
   "outputs": [],
   "source": [
    "fig, ax = plt.subplots()\n",
    "ax.set_box_aspect(1)\n",
    "plt.scatter(df[\"radiation\"], df[\"linear_0.4_residual\"], facecolors='none', edgecolors='black', s=20)\n",
    "plt.plot(X, estimations, color=\"black\")\n",
    "plt.xlabel(\"Solar Radiation\")\n",
    "plt.ylabel(\"Residuals\")"
   ]
  },
  {
   "cell_type": "code",
   "execution_count": null,
   "metadata": {},
   "outputs": [],
   "source": [
    "df.sort_values(by=\"temperature\", inplace=True)\n",
    "X = df[[\"temperature\"]]\n",
    "y = df[[\"linear_0.4_residual\"]]\n",
    "loess.reset_xx(X)\n",
    "loess.reset_yy(y)\n",
    "estimations = []\n",
    "for i in range(len(X)):\n",
    "    x = np.array(X.iloc[[i]])[0]\n",
    "    estimations.append(loess.estimate(x, 2/3))"
   ]
  },
  {
   "cell_type": "code",
   "execution_count": null,
   "metadata": {},
   "outputs": [],
   "source": [
    "fig, ax = plt.subplots()\n",
    "ax.set_box_aspect(1)\n",
    "plt.scatter(df[\"temperature\"], df[\"linear_0.4_residual\"], facecolors='none', edgecolors='black', s=20)\n",
    "plt.plot(X, estimations, color=\"black\")\n",
    "plt.xlabel(\"Temperature\")\n",
    "plt.ylabel(\"Residuals\")"
   ]
  },
  {
   "cell_type": "code",
   "execution_count": null,
   "metadata": {},
   "outputs": [],
   "source": [
    "df.sort_values(by=\"wind\", inplace=True)\n",
    "X = df[[\"wind\"]]\n",
    "y = df[[\"linear_0.4_residual\"]]\n",
    "loess.reset_xx(X)\n",
    "loess.reset_yy(y)\n",
    "estimations = []\n",
    "for i in range(len(X)):\n",
    "    x = np.array(X.iloc[[i]])[0]\n",
    "    estimations.append(loess.estimate(x, 2/3))"
   ]
  },
  {
   "cell_type": "code",
   "execution_count": null,
   "metadata": {},
   "outputs": [],
   "source": [
    "fig, ax = plt.subplots()\n",
    "ax.set_box_aspect(1)\n",
    "plt.scatter(df[\"wind\"], df[\"linear_0.4_residual\"], facecolors='none', edgecolors='black', s=20)\n",
    "plt.plot(X, estimations, color=\"black\")\n",
    "plt.xlabel(\"Wind Speed\")\n",
    "plt.ylabel(\"Residuals\")\n",
    "plt.ylim(-50, 75)"
   ]
  },
  {
   "attachments": {},
   "cell_type": "markdown",
   "metadata": {},
   "source": [
    "## Figure 6"
   ]
  },
  {
   "cell_type": "code",
   "execution_count": null,
   "metadata": {},
   "outputs": [],
   "source": [
    "X = df[[\"radiation\", \"temperature\", \"wind\"]]\n",
    "y = df[[\"ozone\"]]\n",
    "y_cube_root = np.power(y, 1/3)\n",
    "loess = Loess.Loess(X, y_cube_root, 2)\n",
    "loess.reset_xx(X)\n",
    "loess.reset_yy(y_cube_root)\n",
    "loess.reset_degree(2)"
   ]
  },
  {
   "cell_type": "code",
   "execution_count": null,
   "metadata": {},
   "outputs": [],
   "source": [
    "# Fixed wind speed and radiation\n",
    "wind_speed = [5, 10, 15]\n",
    "temperature = np.linspace(60, 95, 100)\n",
    "radiation = [290, 170, 50]\n",
    "\n",
    "fig, axs = plt.subplots(3, 3, constrained_layout=True)\n",
    "fig.set_size_inches(7, 7)\n",
    "\n",
    "estimations = []\n",
    "for i, wind in enumerate(wind_speed):\n",
    "    for j, rad in enumerate(radiation):\n",
    "        estimations = []\n",
    "        for temp in temperature:\n",
    "            x = np.array([rad, temp, wind])\n",
    "            estimations.append(loess.estimate(x, 0.8))\n",
    "        if j != 0:\n",
    "            axs[i, j].axes.yaxis.set_visible(False)\n",
    "        if i != 2:\n",
    "            axs[i, j].axes.xaxis.set_visible(False)\n",
    "        axs[j, i].set_ylim(0, 7)\n",
    "        axs[j, i].plot(temperature, estimations, color=\"black\")"
   ]
  },
  {
   "attachments": {},
   "cell_type": "markdown",
   "metadata": {},
   "source": [
    "## Figure 7"
   ]
  },
  {
   "cell_type": "code",
   "execution_count": null,
   "metadata": {},
   "outputs": [],
   "source": [
    "# Fixed wind speed and temperature\n",
    "wind_speed = [5, 10, 15]\n",
    "temperature = [90, 76, 62]\n",
    "radiation = np.linspace(0, 300, 100)\n",
    "\n",
    "fig, axs = plt.subplots(3, 3, constrained_layout=True)\n",
    "fig.set_size_inches(7, 7)\n",
    "\n",
    "estimations = []\n",
    "for i, wind in enumerate(wind_speed):\n",
    "    for j, temp in enumerate(temperature):\n",
    "        estimations = []\n",
    "        for rad in radiation:\n",
    "            x = np.array([rad, temp, wind])\n",
    "            estimations.append(loess.estimate(x, 0.8))\n",
    "        if j != 0:\n",
    "            axs[i, j].axes.yaxis.set_visible(False)\n",
    "        if i != 2:\n",
    "            axs[i, j].axes.xaxis.set_visible(False)\n",
    "        axs[j, i].set_ylim(0, 7)\n",
    "        axs[j, i].plot(radiation, estimations, color=\"black\")"
   ]
  },
  {
   "attachments": {},
   "cell_type": "markdown",
   "metadata": {},
   "source": [
    "## Figure 8"
   ]
  },
  {
   "cell_type": "code",
   "execution_count": null,
   "metadata": {},
   "outputs": [],
   "source": [
    "# Fixed temperature and radiation\n",
    "wind_speed = np.linspace(3, 18, 100)\n",
    "temperature = [62, 76, 90]\n",
    "radiation = [290, 170, 50]\n",
    "\n",
    "fig, axs = plt.subplots(3, 3, constrained_layout=True)\n",
    "fig.set_size_inches(7, 7)\n",
    "\n",
    "estimations = []\n",
    "for i, temp in enumerate(temperature):\n",
    "    for j, rad in enumerate(radiation):\n",
    "        estimations = []\n",
    "        for wind in wind_speed:\n",
    "            x = np.array([rad, temp, wind])\n",
    "            estimations.append(loess.estimate(x, 0.8))\n",
    "        if j != 0:\n",
    "            axs[i, j].axes.yaxis.set_visible(False)\n",
    "        if i != 2:\n",
    "            axs[i, j].axes.xaxis.set_visible(False)\n",
    "        axs[j, i].set_ylim(0, 7)\n",
    "        axs[j, i].plot(wind_speed, estimations, color=\"black\")"
   ]
  }
 ],
 "metadata": {
  "kernelspec": {
   "display_name": "Python 3.9.13 64-bit (windows store)",
   "language": "python",
   "name": "python3"
  },
  "language_info": {
   "codemirror_mode": {
    "name": "ipython",
    "version": 3
   },
   "file_extension": ".py",
   "mimetype": "text/x-python",
   "name": "python",
   "nbconvert_exporter": "python",
   "pygments_lexer": "ipython3",
   "version": "3.9.13"
  },
  "orig_nbformat": 4,
  "vscode": {
   "interpreter": {
    "hash": "36d57e24ff0009f6dfff9160e88229d431cc6ed0063f5cd30ed601367525072e"
   }
  }
 },
 "nbformat": 4,
 "nbformat_minor": 2
}
