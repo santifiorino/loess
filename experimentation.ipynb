{
 "cells": [
  {
   "cell_type": "code",
   "execution_count": null,
   "metadata": {},
   "outputs": [],
   "source": [
    "import numpy as np\n",
    "import pandas as pd\n",
    "import matplotlib.pyplot as plt"
   ]
  },
  {
   "cell_type": "code",
   "execution_count": null,
   "metadata": {},
   "outputs": [],
   "source": [
    "df = pd.read_csv(\"synthetic_data.csv\")\n",
    "df.head()"
   ]
  },
  {
   "cell_type": "code",
   "execution_count": null,
   "metadata": {},
   "outputs": [],
   "source": [
    "res = 50\n",
    "x = np.linspace(-5, 5, res)\n",
    "y = np.linspace(-5, 5, res)\n",
    "xx, yy = np.meshgrid(x, y)"
   ]
  },
  {
   "cell_type": "code",
   "execution_count": null,
   "metadata": {},
   "outputs": [],
   "source": [
    "# Plot original surfaces\n",
    "fig = plt.figure(figsize=(30, 30))\n",
    "titles = [\"z = -3x+y\", \"z = (x²)-(y²)\", \"z = -(x³)+y\", \"z = |x|+|y|\"]\n",
    "surfaces = [\"plane\", \"saddle\", \"cubic\", \"absolute\"]\n",
    "for i, surface in enumerate(surfaces):\n",
    "    ax = fig.add_subplot(1, 4, i+1, projection='3d')\n",
    "    zz = np.array(df[surface]).reshape(xx.shape)\n",
    "    ax.plot_surface(xx, yy, zz, cmap=\"plasma\")\n",
    "    ax.title.set_text(titles[i])\n",
    "    ax.title.set_size(30)"
   ]
  },
  {
   "cell_type": "code",
   "execution_count": null,
   "metadata": {},
   "outputs": [],
   "source": [
    "# Plot noisy surfaces\n",
    "fig = plt.figure(figsize=(30, 30))\n",
    "for i, superficie in enumerate(surfaces):\n",
    "    ax = fig.add_subplot(1, 4, i+1, projection='3d')\n",
    "    zz = np.array(df[f\"{superficie}_noise\"]).reshape(xx.shape)\n",
    "    ax.plot_surface(xx, yy, zz, cmap=\"plasma\")"
   ]
  },
  {
   "cell_type": "code",
   "execution_count": null,
   "metadata": {},
   "outputs": [],
   "source": [
    "# Plot estimations with f = 0.1, degree = 2\n",
    "fig = plt.figure(figsize=(30, 30))\n",
    "for i, surface in enumerate(surfaces):\n",
    "    ax = fig.add_subplot(1, 4, i+1, projection='3d')\n",
    "    zz = np.array(df[f\"estimation_{surface}_0.5_2\"]).reshape(xx.shape)\n",
    "    ax.plot_wireframe(xx, yy, zz, cmap=\"plasma\")"
   ]
  },
  {
   "cell_type": "code",
   "execution_count": null,
   "metadata": {},
   "outputs": [],
   "source": [
    "def plot_level_curve(df, surface, axis):\n",
    "    fig, axs = plt.subplots(1, 2)\n",
    "    fig.set_size_inches(13, 5)\n",
    "    idx = 24\n",
    "\n",
    "    zz = np.array(df[[f\"estimation_{surface}_{0.5}_1\"]]).reshape(xx.shape)\n",
    "    if axis == \"x\":\n",
    "        axs[1].plot(xx[0], zz[idx], color=\"red\")\n",
    "        axs[0].plot(xx[0], zz[idx], color=\"red\")\n",
    "    elif axis == \"y\":\n",
    "        axs[1].plot(xx[0], zz.T[idx], color=\"red\")\n",
    "        axs[0].plot(xx[0], zz.T[idx], color=\"red\")\n",
    "\n",
    "    zz = np.array(df[[f\"estimation_{surface}_{0.5}_2\"]]).reshape(xx.shape)\n",
    "    if axis == \"x\":\n",
    "        axs[1].plot(xx[0], zz[idx], color=\"blue\")\n",
    "        axs[0].plot(xx[0], zz[idx], color=\"blue\")\n",
    "    elif axis == \"y\":\n",
    "        axs[1].plot(xx[0], zz.T[idx], color=\"blue\")\n",
    "        axs[0].plot(xx[0], zz.T[idx], color=\"blue\")\n",
    "\n",
    "    zz = np.array(df[[surface]]).reshape(xx.shape)\n",
    "    if axis == \"x\":\n",
    "        axs[0].plot(xx[0], zz[idx], color=\"black\", linestyle=\"--\")\n",
    "    elif axis == \"y\":\n",
    "        axs[0].plot(xx[0], zz.T[idx], color=\"black\", linestyle=\"--\")\n",
    "\n",
    "    zz = np.array(df[[f\"{surface}_noise\"]]).reshape(xx.shape)\n",
    "    if axis == \"x\":\n",
    "        axs[1].scatter(xx[0], zz[idx], color='black')\n",
    "    elif axis == \"y\":\n",
    "        axs[1].scatter(xx[0], zz.T[idx], color='black')\n",
    "\n",
    "    axs[0].legend([\"lineal\", \"quadratic\", \"real curve\"])\n",
    "    axs[1].legend([\"lineal\", \"quadratic\", \"fitted data\"])\n",
    "    axs[0].set_xlabel(axis)\n",
    "    axs[1].set_xlabel(axis)\n",
    "    axs[0].set_ylabel(\"z\")\n",
    "    axs[1].set_ylabel(\"z\")"
   ]
  },
  {
   "cell_type": "code",
   "execution_count": null,
   "metadata": {},
   "outputs": [],
   "source": [
    "plot_level_curve(df, \"plane\", \"x\")"
   ]
  },
  {
   "cell_type": "code",
   "execution_count": null,
   "metadata": {},
   "outputs": [],
   "source": [
    "plot_level_curve(df, \"plane\", \"y\")"
   ]
  },
  {
   "cell_type": "code",
   "execution_count": null,
   "metadata": {},
   "outputs": [],
   "source": [
    "plot_level_curve(df, \"saddle\", \"x\")"
   ]
  },
  {
   "cell_type": "code",
   "execution_count": null,
   "metadata": {},
   "outputs": [],
   "source": [
    "plot_level_curve(df, \"saddle\", \"y\")"
   ]
  },
  {
   "cell_type": "code",
   "execution_count": null,
   "metadata": {},
   "outputs": [],
   "source": [
    "plot_level_curve(df, \"cubic\", \"x\")"
   ]
  },
  {
   "cell_type": "code",
   "execution_count": null,
   "metadata": {},
   "outputs": [],
   "source": [
    "plot_level_curve(df, \"cubic\", \"y\")"
   ]
  },
  {
   "cell_type": "code",
   "execution_count": null,
   "metadata": {},
   "outputs": [],
   "source": [
    "plot_level_curve(df, \"absolute\", \"x\")"
   ]
  },
  {
   "cell_type": "code",
   "execution_count": null,
   "metadata": {},
   "outputs": [],
   "source": [
    "plot_level_curve(df, \"absolute\", \"y\")"
   ]
  }
 ],
 "metadata": {
  "kernelspec": {
   "display_name": "Python 3.9.13 64-bit (windows store)",
   "language": "python",
   "name": "python3"
  },
  "language_info": {
   "codemirror_mode": {
    "name": "ipython",
    "version": 3
   },
   "file_extension": ".py",
   "mimetype": "text/x-python",
   "name": "python",
   "nbconvert_exporter": "python",
   "pygments_lexer": "ipython3",
   "version": "3.9.13"
  },
  "orig_nbformat": 4,
  "vscode": {
   "interpreter": {
    "hash": "36d57e24ff0009f6dfff9160e88229d431cc6ed0063f5cd30ed601367525072e"
   }
  }
 },
 "nbformat": 4,
 "nbformat_minor": 2
}
