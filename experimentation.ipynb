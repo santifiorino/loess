{
 "cells": [
  {
   "cell_type": "code",
   "execution_count": null,
   "metadata": {},
   "outputs": [],
   "source": [
    "import numpy as np\n",
    "import pandas as pd\n",
    "import matplotlib.pyplot as plt\n",
    "import seaborn as sns"
   ]
  },
  {
   "cell_type": "code",
   "execution_count": null,
   "metadata": {},
   "outputs": [],
   "source": [
    "data = pd.read_csv(\"dataset.csv\")\n",
    "data.head()"
   ]
  },
  {
   "cell_type": "code",
   "execution_count": null,
   "metadata": {},
   "outputs": [],
   "source": [
    "# first two columns are unnecessary (index)\n",
    "data.drop(data.columns[[0, 1]], axis = 1, inplace = True)\n",
    "data.head()"
   ]
  },
  {
   "cell_type": "code",
   "execution_count": null,
   "metadata": {},
   "outputs": [],
   "source": [
    "labels = [\"radiation\", \"ozone\", \"temperature\", \"wind\"]\n",
    "fig, axs = plt.subplots(4, 4)\n",
    "fig.set_size_inches(10, 10)\n",
    "for i in range(4):\n",
    "    for j in range(4):\n",
    "        axs[i, j].axes.xaxis.set_visible(False)\n",
    "        axs[i, j].axes.yaxis.set_visible(False)\n",
    "        if i == j:\n",
    "            axs[i, j].plot()\n",
    "            axs[i, j].text(.5, .5, labels[i].capitalize(),  horizontalalignment='center', verticalalignment='center', transform=axs[i, j].transAxes, fontsize=13)\n",
    "        else:\n",
    "            if i == 0 or i == 3:\n",
    "                axs[i, j].axes.xaxis.set_visible(True)\n",
    "            if i == 0:\n",
    "                axs[i, j].xaxis.tick_top()\n",
    "            if j == 0 or j == 3:\n",
    "                axs[i, j].axes.yaxis.set_visible(True)\n",
    "            if j == 3:\n",
    "                axs[i, j].yaxis.tick_right()\n",
    "            axs[i, j].scatter(data[labels[j]], data[labels[i]], s=15, color=\"black\")"
   ]
  },
  {
   "cell_type": "code",
   "execution_count": null,
   "metadata": {},
   "outputs": [],
   "source": [
    "def tricubic(x):\n",
    "    y = np.zeros_like(x)\n",
    "    idx = (x >= -1) & (x <= 1)\n",
    "    y[idx] = np.power(1.0 - np.power(np.abs(x[idx]), 3), 3)\n",
    "    return y\n",
    "plt.plot(np.linspace(-2, 2, 100), [tricubic(x) for x in np.linspace(-2, 2, 100)])"
   ]
  },
  {
   "cell_type": "code",
   "execution_count": null,
   "metadata": {},
   "outputs": [],
   "source": [
    "def get_weights(X, Y, x, q):\n",
    "    distances = np.linalg.norm(X - x, axis=1)\n",
    "    sorted_distances = np.sort(distances)[1:q+1]\n",
    "    d = sorted_distances[-1]\n",
    "    sorted_distances = sorted_distances / d\n",
    "    sorted_distances = tricubic(sorted_distances)\n",
    "    W = np.diag(sorted_distances)\n",
    "\n",
    "    return W"
   ]
  },
  {
   "cell_type": "code",
   "execution_count": null,
   "metadata": {},
   "outputs": [],
   "source": [
    "def estimate(X, Y, x, f):\n",
    "    q = int(f * len(data))\n",
    "    standarized_X = (X - X.mean()) / X.std()\n",
    "    standarized_x = (x - X.mean()) / X.std()\n",
    "    standarized_Y = (Y - Y.mean()) / Y.std()\n",
    "\n",
    "    # get q nearest neighbors\n",
    "    distances = np.linalg.norm(standarized_X - standarized_x, axis=1)\n",
    "    sorted_index = np.argsort(distances)[1:q+1]\n",
    "    nearest_X = standarized_X.iloc[sorted_index]\n",
    "    nearest_Y = standarized_Y.iloc[sorted_index]\n",
    "\n",
    "    # get weights\n",
    "    W = get_weights(standarized_X, standarized_Y, standarized_x, q)\n",
    "    \n",
    "    # get estimate\n",
    "    A = np.array(nearest_X)\n",
    "    b = np.array(nearest_Y)\n",
    "    beta = np.linalg.solve(A.T @ W @ A, A.T @ W @ b)\n",
    "    res = beta.T @ standarized_x\n",
    "\n",
    "    return res * Y.std()[\"ozone\"] + Y.mean()[\"ozone\"]\n"
   ]
  },
  {
   "cell_type": "code",
   "execution_count": null,
   "metadata": {},
   "outputs": [],
   "source": [
    "X = data[[\"radiation\", \"temperature\", \"wind\"]]\n",
    "Y = data[[\"ozone\"]]\n",
    "estimations = []\n",
    "for i in range(len(data)):\n",
    "    estimations.append(estimate(X, Y, X.iloc[i], 0.4))\n",
    "data[\"estimation\"] = estimations\n",
    "data[\"residual\"] = data[\"ozone\"] - data[\"estimation\"]"
   ]
  },
  {
   "cell_type": "code",
   "execution_count": null,
   "metadata": {},
   "outputs": [],
   "source": [
    "fig, ax = plt.subplots()\n",
    "ax.set_box_aspect(1)\n",
    "plt.scatter(data[\"estimation\"], abs(data[\"residual\"]), facecolors='none', edgecolors='black', s=20)\n",
    "plt.xlabel(\"Fitted Values\")\n",
    "plt.ylabel(\"Absolute Residuals\")"
   ]
  },
  {
   "cell_type": "code",
   "execution_count": null,
   "metadata": {},
   "outputs": [],
   "source": [
    "fig, ax = plt.subplots()\n",
    "ax.set_box_aspect(1)\n",
    "plt.scatter(data[\"radiation\"], data[\"residual\"], facecolors='none', edgecolors='black', s=20)\n",
    "plt.xlabel(\"Solar Radiation\")\n",
    "plt.ylabel(\"Residuals\")"
   ]
  },
  {
   "cell_type": "code",
   "execution_count": null,
   "metadata": {},
   "outputs": [],
   "source": [
    "fig, ax = plt.subplots()\n",
    "ax.set_box_aspect(1)\n",
    "plt.scatter(data[\"temperature\"], data[\"residual\"], facecolors='none', edgecolors='black', s=20)\n",
    "plt.xlabel(\"Temperature\")\n",
    "plt.ylabel(\"Residuals\")"
   ]
  },
  {
   "cell_type": "code",
   "execution_count": null,
   "metadata": {},
   "outputs": [],
   "source": [
    "fig, ax = plt.subplots()\n",
    "ax.set_box_aspect(1)\n",
    "plt.scatter(data[\"wind\"], data[\"residual\"], facecolors='none', edgecolors='black', s=20)\n",
    "plt.xlabel(\"Wind Speed\")\n",
    "plt.ylabel(\"Residuals\")"
   ]
  }
 ],
 "metadata": {
  "interpreter": {
   "hash": "36d57e24ff0009f6dfff9160e88229d431cc6ed0063f5cd30ed601367525072e"
  },
  "kernelspec": {
   "display_name": "Python 3.9.12 64-bit (windows store)",
   "language": "python",
   "name": "python3"
  },
  "language_info": {
   "codemirror_mode": {
    "name": "ipython",
    "version": 3
   },
   "file_extension": ".py",
   "mimetype": "text/x-python",
   "name": "python",
   "nbconvert_exporter": "python",
   "pygments_lexer": "ipython3",
   "version": "3.9.13"
  },
  "orig_nbformat": 4
 },
 "nbformat": 4,
 "nbformat_minor": 2
}
