{
 "cells": [
  {
   "cell_type": "code",
   "execution_count": null,
   "metadata": {},
   "outputs": [],
   "source": [
    "import numpy as np\n",
    "import pandas as pd\n",
    "import matplotlib.pyplot as plt\n",
    "from sklearn.preprocessing import PolynomialFeatures\n",
    "from scipy import stats"
   ]
  },
  {
   "cell_type": "code",
   "execution_count": null,
   "metadata": {},
   "outputs": [],
   "source": [
    "data = pd.read_csv(\"dataset.csv\")\n",
    "data.head()"
   ]
  },
  {
   "cell_type": "code",
   "execution_count": null,
   "metadata": {},
   "outputs": [],
   "source": [
    "# first two columns are unnecessary (index)\n",
    "data.drop(data.columns[[0, 1]], axis = 1, inplace = True)\n",
    "data.head()"
   ]
  },
  {
   "cell_type": "code",
   "execution_count": null,
   "metadata": {},
   "outputs": [],
   "source": [
    "labels = [\"radiation\", \"ozone\", \"temperature\", \"wind\"]\n",
    "fig, axs = plt.subplots(4, 4)\n",
    "fig.set_size_inches(10, 10)\n",
    "for i in range(4):\n",
    "    for j in range(4):\n",
    "        axs[i, j].axes.xaxis.set_visible(False)\n",
    "        axs[i, j].axes.yaxis.set_visible(False)\n",
    "        if i == j:\n",
    "            axs[i, j].plot()\n",
    "            axs[i, j].text(.5, .5, labels[i].capitalize(),  horizontalalignment='center', verticalalignment='center', transform=axs[i, j].transAxes, fontsize=13)\n",
    "        else:\n",
    "            if i == 0 or i == 3:\n",
    "                axs[i, j].axes.xaxis.set_visible(True)\n",
    "            if i == 0:\n",
    "                axs[i, j].xaxis.tick_top()\n",
    "            if j == 0 or j == 3:\n",
    "                axs[i, j].axes.yaxis.set_visible(True)\n",
    "            if j == 3:\n",
    "                axs[i, j].yaxis.tick_right()\n",
    "            axs[i, j].scatter(data[labels[j]], data[labels[i]], s=15, color=\"black\")"
   ]
  },
  {
   "cell_type": "code",
   "execution_count": null,
   "metadata": {},
   "outputs": [],
   "source": [
    "def tricubic(x):\n",
    "        y = np.zeros_like(x)\n",
    "        idx = (x >= -1) & (x <= 1)\n",
    "        y[idx] = np.power(1.0 - np.power(np.abs(x[idx]), 3), 3)\n",
    "        return y\n",
    "plt.plot(np.linspace(-2, 2, 100), tricubic(np.linspace(-2, 2, 100)))"
   ]
  },
  {
   "cell_type": "code",
   "execution_count": null,
   "metadata": {},
   "outputs": [],
   "source": [
    "class Loess:\n",
    "    \n",
    "    @staticmethod\n",
    "    def standarize_data(data):\n",
    "        data_mean = data.mean(0)\n",
    "        data_std = data.std(0)\n",
    "        return (data - data_mean) / data_std, data_mean, data_std\n",
    "\n",
    "    def __init__(self, xx, yy):\n",
    "        xx = np.array(xx)\n",
    "        yy = np.array(yy)\n",
    "        self.s_xx, self.mean_xx, self.std_xx = self.standarize_data(xx)\n",
    "        self.s_yy, self.mean_yy, self.std_yy = self.standarize_data(yy)\n",
    "\n",
    "    @staticmethod\n",
    "    def get_min_range(distances, window):\n",
    "        min_idx = np.argmin(distances)\n",
    "        n = len(distances)\n",
    "        if min_idx == 0:\n",
    "            return np.arange(0, window)\n",
    "        if min_idx == n-1:\n",
    "            return np.arange(n - window, n)\n",
    "\n",
    "        min_range = [min_idx]\n",
    "        while len(min_range) < window:\n",
    "            i0 = min_range[0]\n",
    "            i1 = min_range[-1]\n",
    "            if i0 == 0:\n",
    "                min_range.append(i1 + 1)\n",
    "            elif i1 == n-1:\n",
    "                min_range.insert(0, i0 - 1)\n",
    "            elif distances[i0-1] < distances[i1+1]:\n",
    "                min_range.insert(0, i0 - 1)\n",
    "            else:\n",
    "                min_range.append(i1 + 1)\n",
    "        return np.array(min_range)\n",
    "\n",
    "    @staticmethod\n",
    "    def get_weights(distances, min_range):\n",
    "        max_distance = max(distances[min_range])\n",
    "        weights = tricubic(distances[min_range] / max_distance)\n",
    "        return weights\n",
    "\n",
    "    def standarize_x(self, value):\n",
    "        return (value - self.mean_xx) / self.std_xx\n",
    "\n",
    "    def destandarize_y(self, value):\n",
    "        return value * self.std_yy + self.mean_yy\n",
    "\n",
    "    def estimate(self, x, f, d):\n",
    "        window = int(len(self.s_xx) * f)\n",
    "        s_x = self.standarize_x(x)\n",
    "\n",
    "        distances = np.linalg.norm(self.s_xx - s_x, axis=1)\n",
    "\n",
    "        #min_range = self.get_min_range(distances, window)\n",
    "        min_range = np.argsort(distances)[:window]\n",
    "        weights = self.get_weights(distances, min_range)\n",
    "        wm = np.diag(weights)\n",
    "        xm = self.s_xx[min_range]\n",
    "        \n",
    "        poly = PolynomialFeatures(degree=d)\n",
    "        xm = poly.fit_transform(xm)\n",
    "        xp = poly.fit_transform(s_x.reshape(1, -1))\n",
    "        \n",
    "        ym = self.s_yy[min_range]\n",
    "        beta = np.linalg.pinv(xm.T @ wm @ xm) @ xm.T @ wm @ ym\n",
    "        y = (xp @ beta)[0]\n",
    "        return self.destandarize_y(y)[0]"
   ]
  },
  {
   "cell_type": "code",
   "execution_count": null,
   "metadata": {},
   "outputs": [],
   "source": [
    "X = data[[\"radiation\", \"temperature\", \"wind\"]]\n",
    "Y = data[[\"ozone\"]]\n",
    "loess = Loess(X, Y)\n",
    "estimations = []\n",
    "for i in range(len(X)):\n",
    "    x = np.array(X.iloc[[i]])[0]\n",
    "    estimations.append(loess.estimate(x, 0.4, 1))\n",
    "data[\"estimation\"] = estimations\n",
    "data[\"residual\"] = data[\"ozone\"] - data[\"estimation\"]"
   ]
  },
  {
   "cell_type": "code",
   "execution_count": null,
   "metadata": {},
   "outputs": [],
   "source": [
    "fig, ax = plt.subplots()\n",
    "ax.set_box_aspect(1)\n",
    "res = stats.probplot(np.sort(data[\"residual\"]), plot=plt, fit=False)\n",
    "plt.show()"
   ]
  },
  {
   "cell_type": "code",
   "execution_count": null,
   "metadata": {},
   "outputs": [],
   "source": [
    "fig, ax = plt.subplots()\n",
    "ax.set_box_aspect(1)\n",
    "plt.scatter(data[\"estimation\"], abs(data[\"residual\"]), facecolors='none', edgecolors='black', s=20)\n",
    "plt.xlabel(\"Fitted Values\")\n",
    "plt.ylabel(\"Absolute Residuals\")"
   ]
  },
  {
   "cell_type": "code",
   "execution_count": null,
   "metadata": {},
   "outputs": [],
   "source": [
    "fig, ax = plt.subplots()\n",
    "ax.set_box_aspect(1)\n",
    "plt.scatter(data[\"radiation\"], data[\"residual\"], facecolors='none', edgecolors='black', s=20)\n",
    "plt.xlabel(\"Solar Radiation\")\n",
    "plt.ylabel(\"Residuals\")"
   ]
  },
  {
   "cell_type": "code",
   "execution_count": null,
   "metadata": {},
   "outputs": [],
   "source": [
    "fig, ax = plt.subplots()\n",
    "ax.set_box_aspect(1)\n",
    "plt.scatter(data[\"temperature\"], data[\"residual\"], facecolors='none', edgecolors='black', s=20)\n",
    "plt.xlabel(\"Temperature\")\n",
    "plt.ylabel(\"Residuals\")"
   ]
  },
  {
   "cell_type": "code",
   "execution_count": null,
   "metadata": {},
   "outputs": [],
   "source": [
    "fig, ax = plt.subplots()\n",
    "ax.set_box_aspect(1)\n",
    "plt.scatter(data[\"wind\"], data[\"residual\"], facecolors='none', edgecolors='black', s=20)\n",
    "plt.xlabel(\"Wind Speed\")\n",
    "plt.ylabel(\"Residuals\")"
   ]
  }
 ],
 "metadata": {
  "kernelspec": {
   "display_name": "Python 3.9.13 64-bit (windows store)",
   "language": "python",
   "name": "python3"
  },
  "language_info": {
   "codemirror_mode": {
    "name": "ipython",
    "version": 3
   },
   "file_extension": ".py",
   "mimetype": "text/x-python",
   "name": "python",
   "nbconvert_exporter": "python",
   "pygments_lexer": "ipython3",
   "version": "3.9.13"
  },
  "orig_nbformat": 4,
  "vscode": {
   "interpreter": {
    "hash": "36d57e24ff0009f6dfff9160e88229d431cc6ed0063f5cd30ed601367525072e"
   }
  }
 },
 "nbformat": 4,
 "nbformat_minor": 2
}
