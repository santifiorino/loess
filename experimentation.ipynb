{
 "cells": [
  {
   "cell_type": "code",
   "execution_count": null,
   "metadata": {},
   "outputs": [],
   "source": [
    "import numpy as np\n",
    "import pandas as pd\n",
    "import matplotlib.pyplot as plt\n",
    "import seaborn as sns"
   ]
  },
  {
   "cell_type": "code",
   "execution_count": null,
   "metadata": {},
   "outputs": [],
   "source": [
    "data = pd.read_csv(\"dataset.csv\")\n",
    "data.head()"
   ]
  },
  {
   "cell_type": "code",
   "execution_count": null,
   "metadata": {},
   "outputs": [],
   "source": [
    "# first two columns are unnecessary (index)\n",
    "data.drop(data.columns[[0, 1]], axis = 1, inplace = True)\n",
    "data.head()"
   ]
  },
  {
   "cell_type": "code",
   "execution_count": null,
   "metadata": {},
   "outputs": [],
   "source": [
    "labels = [\"radiation\", \"ozone\", \"temperature\", \"wind\"]\n",
    "fig, axs = plt.subplots(4, 4)\n",
    "fig.set_size_inches(10, 10)\n",
    "for i in range(4):\n",
    "    for j in range(4):\n",
    "        axs[i, j].axes.xaxis.set_visible(False)\n",
    "        axs[i, j].axes.yaxis.set_visible(False)\n",
    "        if i == j:\n",
    "            axs[i, j].plot()\n",
    "            axs[i, j].text(.5, .5, labels[i].capitalize(),  horizontalalignment='center', verticalalignment='center', transform=axs[i, j].transAxes, fontsize=13)\n",
    "        else:\n",
    "            if i == 0 or i == 3:\n",
    "                axs[i, j].axes.xaxis.set_visible(True)\n",
    "            if i == 0:\n",
    "                axs[i, j].xaxis.tick_top()\n",
    "            if j == 0 or j == 3:\n",
    "                axs[i, j].axes.yaxis.set_visible(True)\n",
    "            if j == 3:\n",
    "                axs[i, j].yaxis.tick_right()\n",
    "            axs[i, j].scatter(data[labels[j]], data[labels[i]], s=15)"
   ]
  },
  {
   "cell_type": "code",
   "execution_count": null,
   "metadata": {},
   "outputs": [],
   "source": [
    "X = data[[\"radiation\", \"temperature\", \"wind\"]]\n",
    "standarized_X = (X - X.mean()) / X.std()\n",
    "Y = data[[\"ozone\"]]"
   ]
  },
  {
   "cell_type": "code",
   "execution_count": null,
   "metadata": {},
   "outputs": [],
   "source": [
    "def tricubic(x):\n",
    "    if abs(x) < 1:\n",
    "        return (1 - (abs(x) ** 3)) ** 3\n",
    "    else:\n",
    "        return 0\n",
    "plt.plot(np.linspace(-2, 2, 100), [tricubic(x) for x in np.linspace(-2, 2, 100)])"
   ]
  },
  {
   "cell_type": "code",
   "execution_count": null,
   "metadata": {},
   "outputs": [],
   "source": [
    "# q neighbors\n",
    "f = 0.4 \n",
    "q = int(f * len(data))\n",
    "res = []\n",
    "for i in range(len(data)):\n",
    "    # get q neareast neighbors\n",
    "    neighbors = X.iloc[np.argsort(np.linalg.norm(X - X.iloc[i], axis=1))[1:q+1]]\n",
    "\n",
    "    # weights\n",
    "    standarized_neighbors = (neighbors - neighbors.mean()) / neighbors.std()\n",
    "    distances = np.linalg.norm(standarized_neighbors - standarized_X.iloc[i], axis=1)\n",
    "    d = max(distances)\n",
    "    weights = np.array([tricubic(x / d) for x in distances])\n",
    "    W = np.diag(weights)\n",
    "    \n",
    "    # solve normal equation\n",
    "    A = np.array(neighbors)\n",
    "    b = np.array(Y.iloc[neighbors.index])\n",
    "    x = np.linalg.inv(A.T @ W @ A) @ (A.T @ W @ b)\n",
    "    res.append(np.array(X.iloc[i]) @ x)"
   ]
  },
  {
   "cell_type": "code",
   "execution_count": null,
   "metadata": {},
   "outputs": [],
   "source": [
    "data[\"prediction\"] = np.array(res)\n",
    "data[\"residual\"] = data[\"ozone\"] - data[\"prediction\"]"
   ]
  },
  {
   "cell_type": "code",
   "execution_count": null,
   "metadata": {},
   "outputs": [],
   "source": [
    "fig, ax = plt.subplots()\n",
    "\n",
    "plt.scatter(data[\"prediction\"], abs(data[\"residual\"]))\n",
    "plt.xlabel(\"Fitted Values\")\n",
    "plt.ylabel(\"Absolute Residuals\")"
   ]
  },
  {
   "cell_type": "code",
   "execution_count": null,
   "metadata": {},
   "outputs": [],
   "source": [
    "fig, ax = plt.subplots()\n",
    "ax.set_box_aspect(1)\n",
    "plt.scatter(data[\"radiation\"], data[\"residual\"])\n",
    "plt.xlabel(\"Solar Radiation\")\n",
    "plt.ylabel(\"Residuals\")"
   ]
  },
  {
   "cell_type": "code",
   "execution_count": null,
   "metadata": {},
   "outputs": [],
   "source": [
    "fig, ax = plt.subplots()\n",
    "ax.set_box_aspect(1)\n",
    "plt.scatter(data[\"temperature\"], data[\"residual\"])\n",
    "plt.xlabel(\"Temperature\")\n",
    "plt.ylabel(\"Residuals\")"
   ]
  },
  {
   "cell_type": "code",
   "execution_count": null,
   "metadata": {},
   "outputs": [],
   "source": [
    "fig, ax = plt.subplots()\n",
    "ax.set_box_aspect(1)\n",
    "plt.scatter(data[\"wind\"], data[\"residual\"])\n",
    "plt.xlabel(\"Wind Speed\")\n",
    "plt.ylabel(\"Residuals\")"
   ]
  }
 ],
 "metadata": {
  "interpreter": {
   "hash": "36d57e24ff0009f6dfff9160e88229d431cc6ed0063f5cd30ed601367525072e"
  },
  "kernelspec": {
   "display_name": "Python 3.9.12 64-bit (windows store)",
   "language": "python",
   "name": "python3"
  },
  "language_info": {
   "codemirror_mode": {
    "name": "ipython",
    "version": 3
   },
   "file_extension": ".py",
   "mimetype": "text/x-python",
   "name": "python",
   "nbconvert_exporter": "python",
   "pygments_lexer": "ipython3",
   "version": "3.9.13"
  },
  "orig_nbformat": 4
 },
 "nbformat": 4,
 "nbformat_minor": 2
}
