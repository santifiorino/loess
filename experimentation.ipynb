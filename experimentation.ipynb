{
 "cells": [
  {
   "cell_type": "code",
   "execution_count": null,
   "metadata": {},
   "outputs": [],
   "source": [
    "import numpy as np\n",
    "import pandas as pd\n",
    "import matplotlib.pyplot as plt\n",
    "import seaborn as sns"
   ]
  },
  {
   "cell_type": "code",
   "execution_count": null,
   "metadata": {},
   "outputs": [],
   "source": [
    "data = pd.read_csv(\"dataset.csv\")\n",
    "data.head()"
   ]
  },
  {
   "cell_type": "code",
   "execution_count": null,
   "metadata": {},
   "outputs": [],
   "source": [
    "# first two columns are unnecessary (index)\n",
    "data.drop(data.columns[[0, 1]], axis = 1, inplace = True)\n",
    "data.head()"
   ]
  },
  {
   "cell_type": "code",
   "execution_count": null,
   "metadata": {},
   "outputs": [],
   "source": [
    "labels = [\"radiation\", \"ozone\", \"temperature\", \"wind\"]\n",
    "fig, axs = plt.subplots(4, 4)\n",
    "fig.set_size_inches(10, 10)\n",
    "for i in range(4):\n",
    "    for j in range(4):\n",
    "        axs[i, j].axes.xaxis.set_visible(False)\n",
    "        axs[i, j].axes.yaxis.set_visible(False)\n",
    "        if i == j:\n",
    "            axs[i, j].plot()\n",
    "            axs[i, j].text(.5, .5, labels[i].capitalize(),  horizontalalignment='center', verticalalignment='center', transform=axs[i, j].transAxes, fontsize=13)\n",
    "        else:\n",
    "            if i == 0 or i == 3:\n",
    "                axs[i, j].axes.xaxis.set_visible(True)\n",
    "            if i == 0:\n",
    "                axs[i, j].xaxis.tick_top()\n",
    "            if j == 0 or j == 3:\n",
    "                axs[i, j].axes.yaxis.set_visible(True)\n",
    "            if j == 3:\n",
    "                axs[i, j].yaxis.tick_right()\n",
    "            axs[i, j].scatter(data[labels[j]], data[labels[i]], s=15)"
   ]
  },
  {
   "cell_type": "code",
   "execution_count": null,
   "metadata": {},
   "outputs": [],
   "source": [
    "# normalize data\n",
    "data = (data - data.min()) / (data.max() - data.min())\n",
    "data.head()"
   ]
  }
 ],
 "metadata": {
  "interpreter": {
   "hash": "36d57e24ff0009f6dfff9160e88229d431cc6ed0063f5cd30ed601367525072e"
  },
  "kernelspec": {
   "display_name": "Python 3.9.12 64-bit (windows store)",
   "language": "python",
   "name": "python3"
  },
  "language_info": {
   "codemirror_mode": {
    "name": "ipython",
    "version": 3
   },
   "file_extension": ".py",
   "mimetype": "text/x-python",
   "name": "python",
   "nbconvert_exporter": "python",
   "pygments_lexer": "ipython3",
   "version": "3.9.13"
  },
  "orig_nbformat": 4
 },
 "nbformat": 4,
 "nbformat_minor": 2
}
