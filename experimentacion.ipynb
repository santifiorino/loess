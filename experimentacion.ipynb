{
 "cells": [
  {
   "cell_type": "code",
   "execution_count": null,
   "metadata": {},
   "outputs": [],
   "source": [
    "import numpy as np\n",
    "import pandas as pd\n",
    "import matplotlib.pyplot as plt\n",
    "import Loess\n",
    "import importlib\n",
    "importlib.reload(Loess)"
   ]
  },
  {
   "cell_type": "code",
   "execution_count": null,
   "metadata": {},
   "outputs": [],
   "source": [
    "data = pd.DataFrame(columns=['x', 'y'])\n",
    "puntos = 50\n",
    "x = np.linspace(-5, 5, puntos)\n",
    "y = np.linspace(-5, 5, puntos)\n",
    "xx, yy = np.meshgrid(x, y)\n",
    "data[\"x\"] = xx.flatten()\n",
    "data[\"y\"] = yy.flatten()"
   ]
  },
  {
   "cell_type": "code",
   "execution_count": null,
   "metadata": {},
   "outputs": [],
   "source": [
    "def plano(x, y):\n",
    "    return -3 * x + y\n",
    "\n",
    "def silla(x, y):\n",
    "    return (x**2) - (y**2)\n",
    "\n",
    "def cubica(x, y):\n",
    "    return -(x**3) + y\n",
    "\n",
    "def modulo(x, y):\n",
    "    return abs(x) + abs(y)"
   ]
  },
  {
   "cell_type": "code",
   "execution_count": null,
   "metadata": {},
   "outputs": [],
   "source": [
    "superficies = {\n",
    "    \"plano\": plano,\n",
    "    \"silla\": silla,\n",
    "    \"cubica\": cubica,\n",
    "    \"modulo\": modulo\n",
    "}"
   ]
  },
  {
   "cell_type": "code",
   "execution_count": null,
   "metadata": {},
   "outputs": [],
   "source": [
    "def agregar_superficie(data, xx, yy, nombre, f):\n",
    "    zz = f(xx, yy)\n",
    "    data[nombre] = zz.flatten()\n",
    "    noise = np.random.normal(0, zz.std() * .5, zz.shape)\n",
    "    zz = zz + noise\n",
    "    data[f\"{nombre}_ruido\"] = zz.flatten()\n",
    "\n",
    "for nombre, funcion in superficies.items():\n",
    "    agregar_superficie(data, xx, yy, nombre, funcion)\n",
    "data.head()"
   ]
  },
  {
   "cell_type": "code",
   "execution_count": null,
   "metadata": {},
   "outputs": [],
   "source": [
    "def agregar_estimacion(loess, data, nombre, f):\n",
    "    X = data[[\"x\", \"y\"]]\n",
    "    estimaciones_1 = []\n",
    "    estimaciones_2 = []\n",
    "    for i in range(len(X)):\n",
    "        Y = data[[f\"{nombre}_ruido\"]]\n",
    "        loess.reset_yy(Y)\n",
    "        x = np.array(X.iloc[i])\n",
    "\n",
    "        loess.reset_degree(1)\n",
    "        estimaciones_1.append(loess.estimate(x, f))\n",
    "        loess.reset_degree(2)\n",
    "        estimaciones_2.append(loess.estimate(x, f))\n",
    "    data[f\"estimacion_{nombre}_{f}_1\"] = estimaciones_1\n",
    "    data[f\"estimacion_{nombre}_{f}_2\"] = estimaciones_2"
   ]
  },
  {
   "cell_type": "code",
   "execution_count": null,
   "metadata": {},
   "outputs": [],
   "source": [
    "# fs = [0.1, 0.5, 1]\n",
    "# X = data[[\"x\", \"y\"]]\n",
    "# loess = Loess.Loess(X, data[[\"plano\"]], 1)\n",
    "# for f in fs:\n",
    "#     print(f)\n",
    "#     for superficie in superficies:\n",
    "#         print(superficie)\n",
    "#         agregar_estimacion(loess, data, superficie, f)\n",
    "#data.to_csv(\"data_sintetica.csv\")\n",
    "data = pd.read_csv(\"data_sintetica.csv\")"
   ]
  },
  {
   "cell_type": "code",
   "execution_count": null,
   "metadata": {},
   "outputs": [],
   "source": [
    "fig = plt.figure(figsize=(30, 30))\n",
    "titulos = [\"z = -3x+y\", \"z = (x²)-(y²)\", \"z = -(x³)+y\", \"z = |x|+|y|\"]\n",
    "for i, superficie in enumerate(superficies):\n",
    "    ax = fig.add_subplot(1, 4, i+1, projection='3d')\n",
    "    zz = np.array(data[superficie]).reshape(xx.shape)\n",
    "    ax.plot_surface(xx, yy, zz, cmap=\"plasma\")\n",
    "    ax.title.set_text(titulos[i])\n",
    "    ax.title.set_size(30)"
   ]
  },
  {
   "cell_type": "code",
   "execution_count": null,
   "metadata": {},
   "outputs": [],
   "source": [
    "fig = plt.figure(figsize=(30, 30))\n",
    "for i, superficie in enumerate(superficies):\n",
    "    ax = fig.add_subplot(1, 4, i+1, projection='3d')\n",
    "    zz = np.array(data[f\"{superficie}_ruido\"]).reshape(xx.shape)\n",
    "    ax.plot_surface(xx, yy, zz, cmap=\"plasma\")"
   ]
  },
  {
   "cell_type": "code",
   "execution_count": null,
   "metadata": {},
   "outputs": [],
   "source": [
    "fig = plt.figure(figsize=(30, 30))\n",
    "for i, superficie in enumerate(superficies):\n",
    "    ax = fig.add_subplot(1, 4, i+1, projection='3d')\n",
    "    zz = np.array(data[f\"estimacion_{superficie}_0.5_2\"]).reshape(xx.shape)\n",
    "    ax.plot_wireframe(xx, yy, zz, cmap=\"plasma\")"
   ]
  },
  {
   "cell_type": "code",
   "execution_count": null,
   "metadata": {},
   "outputs": [],
   "source": [
    "def curva_nivel(data, superficie, axis):\n",
    "    fig, axs = plt.subplots(1, 2)\n",
    "    fig.set_size_inches(13, 5)\n",
    "    idx = 24\n",
    "\n",
    "    zz = np.array(data[[f\"estimacion_{superficie}_{0.5}_1\"]]).reshape(xx.shape)\n",
    "    if axis == \"x\":\n",
    "        axs[1].plot(xx[0], zz[idx], color=\"red\")\n",
    "        axs[0].plot(xx[0], zz[idx], color=\"red\")\n",
    "    elif axis == \"y\":\n",
    "        axs[1].plot(xx[0], zz.T[idx], color=\"red\")\n",
    "        axs[0].plot(xx[0], zz.T[idx], color=\"red\")\n",
    "\n",
    "    zz = np.array(data[[f\"estimacion_{superficie}_{0.5}_2\"]]).reshape(xx.shape)\n",
    "    if axis == \"x\":\n",
    "        axs[1].plot(xx[0], zz[idx], color=\"blue\")\n",
    "        axs[0].plot(xx[0], zz[idx], color=\"blue\")\n",
    "    elif axis == \"y\":\n",
    "        axs[1].plot(xx[0], zz.T[idx], color=\"blue\")\n",
    "        axs[0].plot(xx[0], zz.T[idx], color=\"blue\")\n",
    "\n",
    "    zz = np.array(data[[superficie]]).reshape(xx.shape)\n",
    "    if axis == \"x\":\n",
    "        axs[0].plot(xx[0], zz[idx], color=\"black\", linestyle=\"--\")\n",
    "    elif axis == \"y\":\n",
    "        axs[0].plot(xx[0], zz.T[idx], color=\"black\", linestyle=\"--\")\n",
    "\n",
    "    zz = np.array(data[[f\"{superficie}_ruido\"]]).reshape(xx.shape)\n",
    "    if axis == \"x\":\n",
    "        axs[1].scatter(xx[0], zz[idx], color='black')\n",
    "    elif axis == \"y\":\n",
    "        axs[1].scatter(xx[0], zz.T[idx], color='black')\n",
    "\n",
    "    axs[0].legend([\"lineal\", \"cuadratico\", \"curva real\"])\n",
    "    axs[1].legend([\"lineal\", \"cuadratico\", \"data\"])\n",
    "    axs[0].set_xlabel(axis)\n",
    "    axs[1].set_xlabel(axis)\n",
    "    axs[0].set_ylabel(\"z\")\n",
    "    axs[1].set_ylabel(\"z\")"
   ]
  },
  {
   "cell_type": "code",
   "execution_count": null,
   "metadata": {},
   "outputs": [],
   "source": [
    "curva_nivel(data, \"cubica\", \"x\")"
   ]
  },
  {
   "cell_type": "code",
   "execution_count": null,
   "metadata": {},
   "outputs": [],
   "source": [
    "curva_nivel(data, \"cubica\", \"y\")"
   ]
  }
 ],
 "metadata": {
  "kernelspec": {
   "display_name": "Python 3.9.13 64-bit (windows store)",
   "language": "python",
   "name": "python3"
  },
  "language_info": {
   "codemirror_mode": {
    "name": "ipython",
    "version": 3
   },
   "file_extension": ".py",
   "mimetype": "text/x-python",
   "name": "python",
   "nbconvert_exporter": "python",
   "pygments_lexer": "ipython3",
   "version": "3.9.13"
  },
  "orig_nbformat": 4,
  "vscode": {
   "interpreter": {
    "hash": "36d57e24ff0009f6dfff9160e88229d431cc6ed0063f5cd30ed601367525072e"
   }
  }
 },
 "nbformat": 4,
 "nbformat_minor": 2
}
