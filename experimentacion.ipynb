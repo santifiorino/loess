{
 "cells": [
  {
   "cell_type": "markdown",
   "metadata": {},
   "source": [
    "# Experimentación\n",
    "## Enunciado\n",
    "- Experimentación con diversa data sintética creada por el grupo para analizar diferentes\n",
    "situaciones ante las que se puede presentar el método.\n",
    "- Experimentar variando diferentes parámetros del algoritmo como:\n",
    "    - Ajuste lineal o cuadrático de las variables independientes.\n",
    "    - q, el tamaño del vecindario.\n",
    "    - f, la proporción de datos en el vecindario.\n",
    "    - Función de distancia (al menos una alternativa a la tricúbica)."
   ]
  },
  {
   "cell_type": "markdown",
   "metadata": {},
   "source": [
    "## TODO\n",
    "Pongo algunas ideas, no haría todas:\n",
    "\n",
    "Para data sintética pondría un par que deberían ser fáciles como $f(x) = sin(x) + \\epsilon_x$ donde el epsilon es un toque de ruido. Luego una polinimica genérica tipo $f(x) = x^3$ o algo así.\n",
    "\n",
    "Después un par que las debería hacer mal sí o sí, que no sean suaves:\n",
    "- Alguna función no derivable pero continua. Ejs: $f(x) = |x|$ donde $x \\in (-1, 1)$\n",
    "- Alguna función no continua. Ej: $f(x) = \\frac{1}{x}$ donde $x \\in (-1, 1)$\n",
    "- Alguna función con giros muy fuertes. O sea que su derivada en un punto cambié drasticamente (este me parece la más pesada, no lo haría)\n",
    "\n",
    "\n",
    "Para funciones de distancia me parece interesante plantear que pasa en vez de tomar $W(d) = (1 - |d|^3)^3$ hacer $W(d) = (1 - |d|^n)^n$ e ir probando con varios valores de $n$. Quizas es medio embole variando también otros parametros así que si no pinta se puede agarrar cualquier otra función genérica de distancia y listo\n",
    "\n",
    "Supongo que habrá que armar alguna función de error para ver que parámetro es mejor que otro, pensar cómo hacerlo\n"
   ]
  },
  {
   "cell_type": "markdown",
   "metadata": {},
   "source": []
  }
 ],
 "metadata": {
  "language_info": {
   "name": "python"
  },
  "orig_nbformat": 4
 },
 "nbformat": 4,
 "nbformat_minor": 2
}
